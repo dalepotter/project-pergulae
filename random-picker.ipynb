{
 "cells": [
  {
   "cell_type": "markdown",
   "metadata": {},
   "source": [
    "# Initial trading algo\n",
    "\n",
    "Using tutorial from: https://backtest-rookies.com/2017/06/02/getting-started-first-script/"
   ]
  },
  {
   "cell_type": "code",
   "execution_count": 1,
   "metadata": {},
   "outputs": [],
   "source": [
    "# Load libraries\n",
    "import random\n",
    "import backtrader as bt\n",
    "from datetime import datetime"
   ]
  },
  {
   "cell_type": "code",
   "execution_count": 2,
   "metadata": {},
   "outputs": [
    {
     "data": {
      "text/plain": [
       "'\\n# Create a strategy\\nclass firstStrategy(bt.Strategy):\\n\\n    def __init__(self):\\n        #self.rsi = bt.indicators.RSI_SMA(self.data.close, period=21)\\n        pass\\n\\n    def next(self):\\n        # import pdb;pdb.set_trace()\\n        action = random.choice([\"Buy\", \"Sell\", \"Stick\"])\\n        # print(\"Action: {}\".format(str(action)))\\n        end_position = self.position.size\\n        \\n        if action == \"Buy\":\\n            num_to_buy = random.randint(1,100)\\n            # print(\"Num to buy: {}\".format(str(num_to_buy)))\\n            self.buy(size=num_to_buy)\\n            end_position += num_to_buy\\n        elif action == \"Sell\" and (self.position.size > 0):\\n            num_to_sell = random.randint(1,self.position.size)\\n            # print(\"Selling: {}\".format(self.position.size))\\n            self.sell(size=num_to_sell)\\n            end_position -= num_to_sell\\n        print(f\\'{action}\\')\\n        \\n        # print(\"End position: {}\".format(end_position))\\n'"
      ]
     },
     "execution_count": 2,
     "metadata": {},
     "output_type": "execute_result"
    }
   ],
   "source": [
    "\"\"\"\n",
    "# Create a strategy\n",
    "class firstStrategy(bt.Strategy):\n",
    "\n",
    "    def __init__(self):\n",
    "        #self.rsi = bt.indicators.RSI_SMA(self.data.close, period=21)\n",
    "        pass\n",
    "\n",
    "    def next(self):\n",
    "        # import pdb;pdb.set_trace()\n",
    "        action = random.choice([\"Buy\", \"Sell\", \"Stick\"])\n",
    "        # print(\"Action: {}\".format(str(action)))\n",
    "        end_position = self.position.size\n",
    "        \n",
    "        if action == \"Buy\":\n",
    "            num_to_buy = random.randint(1,100)\n",
    "            # print(\"Num to buy: {}\".format(str(num_to_buy)))\n",
    "            self.buy(size=num_to_buy)\n",
    "            end_position += num_to_buy\n",
    "        elif action == \"Sell\" and (self.position.size > 0):\n",
    "            num_to_sell = random.randint(1,self.position.size)\n",
    "            # print(\"Selling: {}\".format(self.position.size))\n",
    "            self.sell(size=num_to_sell)\n",
    "            end_position -= num_to_sell\n",
    "        print(f'{action}')\n",
    "        \n",
    "        # print(\"End position: {}\".format(end_position))\n",
    "\"\"\""
   ]
  },
  {
   "cell_type": "code",
   "execution_count": 3,
   "metadata": {},
   "outputs": [],
   "source": [
    "# Create a strategy\n",
    "class Back_to_basics(bt.Strategy):\n",
    "    \n",
    "    def log(self, txt, dt=None):\n",
    "        ''' Logging function fot this strategy'''\n",
    "        dt = dt or self.datas[0].datetime.date(0)\n",
    "        print('%s, %s' % (dt.isoformat(), txt))\n",
    "    \n",
    "    def notify_order(self, order):\n",
    "        if order.status in [order.Submitted, order.Accepted]:\n",
    "            # Buy/Sell order submitted/accepted to/by broker - Nothing to do\n",
    "            return\n",
    "\n",
    "        # Check if an order has been completed\n",
    "        # Attention: broker could reject order if not enough cash\n",
    "        if order.status in [order.Completed]:\n",
    "            if order.isbuy():\n",
    "                self.log(f'BUY Executed order for {order.executed.size} shares at {order.executed.price} per share for total cost of {order.executed.value}')\n",
    "            else:  # Sell\n",
    "                self.log('SELL EXECUTED, Price: %.2f, Cost: %.2f, Comm %.2f' %\n",
    "                         (order.executed.price,\n",
    "                          order.executed.value,\n",
    "                          order.executed.comm))\n",
    "\n",
    "            self.bar_executed = len(self)\n",
    "\n",
    "        elif order.status in [order.Canceled, order.Margin, order.Rejected]:\n",
    "            self.log('Order Canceled/Margin/Rejected')\n",
    "\n",
    "        # Write down: no pending order\n",
    "        self.order = None\n",
    "        \n",
    "    def __init__(self):\n",
    "        pass\n",
    "\n",
    "    def next(self):\n",
    "        action = random.choice(['buy', 'stay', 'sell'])\n",
    "        self.log(f\"Action for next trading day: {action}\")\n",
    "        \n",
    "        if action in ['buy', 'sell']:\n",
    "            num_to_execute = random.randint(1,100)\n",
    "        \n",
    "        if action == 'buy':\n",
    "            self.buy(size=num_to_execute)\n",
    "            self.log(f\"Place order to BUY {num_to_execute} shares tomorrow\")\n",
    "        elif action == 'sell':\n",
    "            if self.position.size >= num_to_execute:\n",
    "                self.sell(size=num_to_execute)\n",
    "                self.log(f\"Place order to SELL {num_to_execute} shares tomorrow\")\n",
    "            else:\n",
    "                self.log(f\"SELL REJECTED - Not enough stock to sell (asked to sell {num_to_execute}, but have {self.position.size})\")\n",
    "            \n",
    "        \n",
    "        self.log(f\"Value of portfolio: {cerebro.broker.getvalue()} today\")\n",
    "        self.log(f\"Amount of cash: {cerebro.broker.getcash()} today\")\n",
    "        self.log(f\"Position: {self.position.size}\")\n",
    "        #print('---')\n",
    "        "
   ]
  },
  {
   "cell_type": "code",
   "execution_count": 4,
   "metadata": {},
   "outputs": [],
   "source": [
    "# Variable for our starting cash\n",
    "startcash = 100000"
   ]
  },
  {
   "cell_type": "code",
   "execution_count": 5,
   "metadata": {
    "scrolled": false
   },
   "outputs": [
    {
     "name": "stdout",
     "output_type": "stream",
     "text": [
      "1\n"
     ]
    },
    {
     "ename": "AttributeError",
     "evalue": "'NoneType' object has no attribute 'close'",
     "output_type": "error",
     "traceback": [
      "\u001b[0;31m---------------------------------------------------------------------------\u001b[0m",
      "\u001b[0;31mAttributeError\u001b[0m                            Traceback (most recent call last)",
      "\u001b[0;32m<ipython-input-5-2e05f4a4b513>\u001b[0m in \u001b[0;36m<module>\u001b[0;34m\u001b[0m\n\u001b[1;32m     24\u001b[0m \u001b[0;34m\u001b[0m\u001b[0m\n\u001b[1;32m     25\u001b[0m     \u001b[0;31m# Run over everything\u001b[0m\u001b[0;34m\u001b[0m\u001b[0;34m\u001b[0m\u001b[0m\n\u001b[0;32m---> 26\u001b[0;31m     \u001b[0mcerebro\u001b[0m\u001b[0;34m.\u001b[0m\u001b[0mrun\u001b[0m\u001b[0;34m(\u001b[0m\u001b[0;34m)\u001b[0m\u001b[0;34m\u001b[0m\u001b[0m\n\u001b[0m\u001b[1;32m     27\u001b[0m \u001b[0;34m\u001b[0m\u001b[0m\n\u001b[1;32m     28\u001b[0m     \u001b[0;31m# Get final portfolio Value\u001b[0m\u001b[0;34m\u001b[0m\u001b[0;34m\u001b[0m\u001b[0m\n",
      "\u001b[0;32m~/Projects/Algo-Trading/pyenv/lib/python3.6/site-packages/backtrader/cerebro.py\u001b[0m in \u001b[0;36mrun\u001b[0;34m(self, **kwargs)\u001b[0m\n\u001b[1;32m   1125\u001b[0m             \u001b[0;31m# let's skip process \"spawning\"\u001b[0m\u001b[0;34m\u001b[0m\u001b[0;34m\u001b[0m\u001b[0m\n\u001b[1;32m   1126\u001b[0m             \u001b[0;32mfor\u001b[0m \u001b[0miterstrat\u001b[0m \u001b[0;32min\u001b[0m \u001b[0miterstrats\u001b[0m\u001b[0;34m:\u001b[0m\u001b[0;34m\u001b[0m\u001b[0m\n\u001b[0;32m-> 1127\u001b[0;31m                 \u001b[0mrunstrat\u001b[0m \u001b[0;34m=\u001b[0m \u001b[0mself\u001b[0m\u001b[0;34m.\u001b[0m\u001b[0mrunstrategies\u001b[0m\u001b[0;34m(\u001b[0m\u001b[0miterstrat\u001b[0m\u001b[0;34m)\u001b[0m\u001b[0;34m\u001b[0m\u001b[0m\n\u001b[0m\u001b[1;32m   1128\u001b[0m                 \u001b[0mself\u001b[0m\u001b[0;34m.\u001b[0m\u001b[0mrunstrats\u001b[0m\u001b[0;34m.\u001b[0m\u001b[0mappend\u001b[0m\u001b[0;34m(\u001b[0m\u001b[0mrunstrat\u001b[0m\u001b[0;34m)\u001b[0m\u001b[0;34m\u001b[0m\u001b[0m\n\u001b[1;32m   1129\u001b[0m                 \u001b[0;32mif\u001b[0m \u001b[0mself\u001b[0m\u001b[0;34m.\u001b[0m\u001b[0m_dooptimize\u001b[0m\u001b[0;34m:\u001b[0m\u001b[0;34m\u001b[0m\u001b[0m\n",
      "\u001b[0;32m~/Projects/Algo-Trading/pyenv/lib/python3.6/site-packages/backtrader/cerebro.py\u001b[0m in \u001b[0;36mrunstrategies\u001b[0;34m(self, iterstrat, predata)\u001b[0m\n\u001b[1;32m   1210\u001b[0m                 \u001b[0mdata\u001b[0m\u001b[0;34m.\u001b[0m\u001b[0m_start\u001b[0m\u001b[0;34m(\u001b[0m\u001b[0;34m)\u001b[0m\u001b[0;34m\u001b[0m\u001b[0m\n\u001b[1;32m   1211\u001b[0m                 \u001b[0;32mif\u001b[0m \u001b[0mself\u001b[0m\u001b[0;34m.\u001b[0m\u001b[0m_dopreload\u001b[0m\u001b[0;34m:\u001b[0m\u001b[0;34m\u001b[0m\u001b[0m\n\u001b[0;32m-> 1212\u001b[0;31m                     \u001b[0mdata\u001b[0m\u001b[0;34m.\u001b[0m\u001b[0mpreload\u001b[0m\u001b[0;34m(\u001b[0m\u001b[0;34m)\u001b[0m\u001b[0;34m\u001b[0m\u001b[0m\n\u001b[0m\u001b[1;32m   1213\u001b[0m \u001b[0;34m\u001b[0m\u001b[0m\n\u001b[1;32m   1214\u001b[0m         \u001b[0;32mfor\u001b[0m \u001b[0mstratcls\u001b[0m\u001b[0;34m,\u001b[0m \u001b[0msargs\u001b[0m\u001b[0;34m,\u001b[0m \u001b[0mskwargs\u001b[0m \u001b[0;32min\u001b[0m \u001b[0miterstrat\u001b[0m\u001b[0;34m:\u001b[0m\u001b[0;34m\u001b[0m\u001b[0m\n",
      "\u001b[0;32m~/Projects/Algo-Trading/pyenv/lib/python3.6/site-packages/backtrader/feed.py\u001b[0m in \u001b[0;36mpreload\u001b[0;34m(self)\u001b[0m\n\u001b[1;32m    693\u001b[0m \u001b[0;34m\u001b[0m\u001b[0m\n\u001b[1;32m    694\u001b[0m         \u001b[0;31m# preloaded - no need to keep the object around - breaks multip in 3.x\u001b[0m\u001b[0;34m\u001b[0m\u001b[0;34m\u001b[0m\u001b[0m\n\u001b[0;32m--> 695\u001b[0;31m         \u001b[0mself\u001b[0m\u001b[0;34m.\u001b[0m\u001b[0mf\u001b[0m\u001b[0;34m.\u001b[0m\u001b[0mclose\u001b[0m\u001b[0;34m(\u001b[0m\u001b[0;34m)\u001b[0m\u001b[0;34m\u001b[0m\u001b[0m\n\u001b[0m\u001b[1;32m    696\u001b[0m         \u001b[0mself\u001b[0m\u001b[0;34m.\u001b[0m\u001b[0mf\u001b[0m \u001b[0;34m=\u001b[0m \u001b[0;32mNone\u001b[0m\u001b[0;34m\u001b[0m\u001b[0m\n\u001b[1;32m    697\u001b[0m \u001b[0;34m\u001b[0m\u001b[0m\n",
      "\u001b[0;31mAttributeError\u001b[0m: 'NoneType' object has no attribute 'close'"
     ]
    }
   ],
   "source": [
    "# Create an instance of cerebro\n",
    "cerebro = bt.Cerebro()\n",
    "\n",
    "# Add our strategy\n",
    "cerebro.addstrategy(Back_to_basics)\n",
    "\n",
    "# Get AAPL data from Quandl.\n",
    "data = bt.feeds.Quandl(\n",
    "    #dataset='LME',\n",
    "    dataname='AAPL',\n",
    "    fromdate = datetime(2018,2,1),\n",
    "    todate = datetime(2018,2,28),\n",
    "    buffered= True,\n",
    "    )\n",
    "\n",
    "# Add the data to Cerebro\n",
    "cerebro.adddata(data)\n",
    "\n",
    "results = list()\n",
    "for x in range(1,1000):\n",
    "    print(x)\n",
    "    # Set our desired cash start\n",
    "    cerebro.broker.setcash(startcash)\n",
    "\n",
    "    # Run over everything\n",
    "    cerebro.run()\n",
    "\n",
    "    # Get final portfolio Value\n",
    "    portvalue = cerebro.broker.getvalue()\n",
    "    pnl = portvalue - startcash\n",
    "    percentage_return = pnl / startcash"
   ]
  },
  {
   "cell_type": "code",
   "execution_count": null,
   "metadata": {},
   "outputs": [],
   "source": [
    "    # Print out the final result\n",
    "    # print('Final Portfolio Value: ${}'.format(portvalue))\n",
    "    # print('P/L: ${}'.format(pnl))\n",
    "    # print(f'{round((percentage_return * 100),2)}% return')\n",
    "    results.append(percentage_return)\n",
    "\n",
    "# Finally plot the end results\n",
    "#cerebro.plot(style='candlestick')\n",
    "\n"
   ]
  },
  {
   "cell_type": "code",
   "execution_count": null,
   "metadata": {},
   "outputs": [],
   "source": [
    "len(results)\n",
    "sum(results) / len(results)\n",
    "results"
   ]
  }
 ],
 "metadata": {
  "kernelspec": {
   "display_name": "Python 3",
   "language": "python",
   "name": "python3"
  },
  "language_info": {
   "codemirror_mode": {
    "name": "ipython",
    "version": 3
   },
   "file_extension": ".py",
   "mimetype": "text/x-python",
   "name": "python",
   "nbconvert_exporter": "python",
   "pygments_lexer": "ipython3",
   "version": "3.6.5"
  }
 },
 "nbformat": 4,
 "nbformat_minor": 2
}
